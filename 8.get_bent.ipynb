{
 "cells": [
  {
   "cell_type": "markdown",
   "metadata": {},
   "source": [
    "### Imports"
   ]
  },
  {
   "cell_type": "code",
   "execution_count": 1,
   "metadata": {},
   "outputs": [],
   "source": [
    "import snscrape.modules.twitter\n",
    "import pandas as pd\n",
    "from gensim.models import Doc2Vec\n",
    "from gensim.utils import simple_preprocess\n",
    "import pickle\n",
    "import csv"
   ]
  },
  {
   "cell_type": "markdown",
   "metadata": {},
   "source": [
    "### Create function that takes in a twitter handle as input and returns that user's probable political bent"
   ]
  },
  {
   "cell_type": "code",
   "execution_count": 8,
   "metadata": {},
   "outputs": [],
   "source": [
    "def get_bent(twitter_handle):\n",
    "    \n",
    "    # import Doc2Vec model\n",
    "    \n",
    "    doc_model = Doc2Vec.load('final_doc2vec')\n",
    "    \n",
    "    # import SVC model\n",
    "    \n",
    "    svc_filename = \"svc_final_model.pkl\"\n",
    "    with open(svc_filename, 'rb') as file:\n",
    "        svc = pickle.load(file)\n",
    "    \n",
    "    # scrape all tweets from user\n",
    "    \n",
    "    tweets = snscrape.modules.twitter.TwitterUserScraper(username=twitter_handle)\n",
    "    \n",
    "    # create temporary file to hold tweets\n",
    "    \n",
    "    with open('temp_file7.csv', 'w', encoding='utf-8') as f:\n",
    "        wr=csv.writer(f, lineterminator = '\\n')\n",
    "        for i in tweets.get_items():\n",
    "            wr.writerow([i.content])\n",
    "                    \n",
    "    # read temporary file in\n",
    "    \n",
    "    df = pd.read_csv('temp_file7.csv', header=None)\n",
    "    \n",
    "    # transform rows of tweets into single string \n",
    "    \n",
    "    tweets_list = df[0].tolist()\n",
    "    one_string = ''.join(tweets_list)\n",
    "    \n",
    "    # process tweets with gensim\n",
    "    \n",
    "    clean_doc = simple_preprocess(one_string)\n",
    "    \n",
    "    # infer document embeddings for entirety of user's tweets\n",
    "    \n",
    "    vectors = doc_model.infer_vector(clean_doc)\n",
    "    \n",
    "    # make prediction in svc model\n",
    "    \n",
    "    prediction = svc.predict([vectors])\n",
    "    proba = svc.predict_proba([vectors])\n",
    "    most_similar = doc_model.wv.most_similar([vectors])\n",
    "    # display political bent\n",
    "\n",
    "    if prediction == 1:\n",
    "        print(f'Well it seems to me that this twitter user, @{twitter_handle}, is most likely a Democrat.')\n",
    "    else:\n",
    "        print(f'Hey now, looks like Mr. or Ms. @{twitter_handle}, just may be a Republican.')\n",
    "    \n",
    "    print(prediction)\n",
    "    print(one_string[:2000])\n",
    "    print(proba)\n",
    "    print(vectors)\n",
    "    \n",
    "    "
   ]
  },
  {
   "cell_type": "code",
   "execution_count": 9,
   "metadata": {},
   "outputs": [
    {
     "name": "stdout",
     "output_type": "stream",
     "text": [
      "Hey now, looks like Mr. or Ms. @cnmlhk, just may be a Republican.\n",
      "[0]\n",
      "@chrisalbon Look at the curve of drug abuse and overdose death in the same time period, you may have a different conclusion if this effort of lockdown worth it.@dylanzhao California is like New York. Everyone hates it, but everyone wants to come.  Only losers and retirees leave.@fuhaixia1015 @monicabi5 犹太人也这么评价犹太人的圈子。@mang047 大城市比如斯德哥尔摩，有可比性。@mang047 瑞典为啥现在没大事了？他们既不戴口罩也不封城。@mang047 @StefanSloft @Fabianduduosaka 那种钱不好拿，看看老郭和他目前的几个敌人的现状就知道了。@mang047 @RFA_Chinese 菜可申请避难，她符合豁免条件。杨的问题是在20年前申请绿卡时候有谎报。@mang047 @David_Liu2018 @FlyInRainS2 @CenturyLy @Rosa20071101 @Kobe94943003 @Xzhangbaiyu @sssssw_fo @Shineling2 @gameove68797884 @IanWu18 @nidaye_34 @holalibin @yanzi121 @majuismail1122 整个事件本来就是大酱的智囊团背后发起的。就是政变。@PeterSchiff @realDonaldTrump Printing money is the solution...@mang047 @shiweijueye0307 @kacmoodyalgeb 目前还有当可上也是福气，总比任精英阶层任意宰割强，至少暂时解气。这样精英阶层要么逃离这个国家，要么认真对待。@mang047 @shiweijueye0307 @kacmoodyalgeb 是这么回事，但这是全球化，美国中产和贫困阶层不满，以及精英阶层的麻木造成的。现在精英阶层还是没发现真正问题所在，所以川普还会当选。黑社会的存在是现实社会的不公平造成的。@mang047 @EEDSH3 @iAn5sGNA5Ar34pP 商人总统，只关心利益得失。没有发动任何战争，巴以和平，撤军，经济增长，短板是危机处理。@mang047 悬了，英首相才50几岁，小川普20岁。@PeterSchiff I thought our society has too much oversupplied good and services.@Alston_Kwan @Grace4NY Agree , race card is for 黑人 only.@xiongyanxman 别太敏感，美国社会是一个成熟的社会，每个人要对自己的行为负责，他们的行为体现他们的想法，而且他们有权利表达自己的想法，和你无关。@Alston_Kwan @Grace4NY 复杂---》 负责@Alston_Kwan @Grace4NY 别太敏感，美国社会是一个成熟的社会，每个人要对自己的行为复杂，他们的行为体现他们的想法，而且他们有权利表达自己的想法，和你无关。@milesyu10 如果这个账号肯定是假冒账号。哈哈😄@trinafang @BubDylanHarvard @QiaoMoo 是的，那地方一根油条加一碗豆浆只要两美元，不加税不加小费。其他地方要五美元，另加税及小费。所以纽约是各个族裔的饮食天堂。@takeallefforts 这就对了, enjoy your life.@Mulan2020 第一个是Covid 病毒？@BubDylanHarvard @QiaoMoo 那是法拉盛或布鲁克林的八街，能买到美国最便宜的中餐，美国其他任何地方价格都贵得多。@milesyu10 @MilesYu196288 How can we know this one is true? Maybe let Mike Pompeo retweet it?@Alston_Kwan 观点可以，但形象不太好，上镜头前应该化化妆。@bqB9Ml6aFloKS2F 这么高的曝光率，要多少钱才能买到？美国比他有钱的有上百个家庭，但谁有他有权？美国是选票政治，不是靠所谓道德，他只拿1美元不是不想贪财，是为多拿选票！@mang047 美国civil war 的时候打得死了几十万。现在加州要联合西部几个州想独立。如果这次川普连任成功，也会出现坦克开进长安街的事。@mang047 打起来的原因是路线出现针锋相\n",
      "[[0.90211786 0.09788214]]\n",
      "[-0.3006901   0.04751207  0.10515971  0.12632824  0.21864454  0.03450143\n",
      " -0.12219045  0.06042936  0.13355556 -0.22591078  0.10615131 -0.19666746\n",
      "  0.12486209  0.08029172  0.02931318  0.01817285 -0.10534538 -0.15940721\n",
      "  0.14610234  0.11758842  0.132055   -0.176241   -0.07162615  0.11364978\n",
      " -0.01365861  0.11989661  0.07316804  0.13301143 -0.14595531  0.21649352\n",
      " -0.2805035  -0.33907896 -0.16800012 -0.00377721  0.06612433  0.11322699\n",
      "  0.15185809 -0.18500985 -0.01136988 -0.16350809 -0.17530915 -0.10906931\n",
      "  0.11171514  0.06989878 -0.17819448  0.06368232 -0.3704299  -0.02732082\n",
      "  0.00945034 -0.07516735 -0.01178043  0.171438    0.2170788   0.12284862\n",
      "  0.19507408 -0.12167978 -0.40785596  0.30991897 -0.62650245  0.25520068\n",
      "  0.16017553  0.10940123  0.0985466  -0.20474762 -0.15511996  0.05376242\n",
      "  0.3103455  -0.25012282 -0.05646285 -0.1590558  -0.07321525  0.37867177\n",
      "  0.1052672  -0.08478752  0.03928862 -0.07268628  0.03701075  0.02932955\n",
      "  0.03993062  0.09209672 -0.31863853 -0.43307427  0.22754087 -0.54000455\n",
      "  0.00592292 -0.16337822 -0.060345    0.02088529  0.04677895  0.31328496\n",
      " -0.19984229  0.05404632 -0.30731162  0.3112933  -0.00495169  0.03488377\n",
      " -0.05430887  0.24198215  0.39053002  0.40906468  0.2961791  -0.05015122\n",
      "  0.04250149 -0.16483657 -0.18042067  0.05216739 -0.5170946   0.24496844\n",
      " -0.1765725   0.1647391   0.32983798 -0.30020356 -0.6844832   0.37251487\n",
      "  0.280625    0.04763694 -0.20182803 -0.3515585  -0.14154916 -0.10735783\n",
      "  0.07815998  0.26641566 -0.09099881  0.21695344  0.02079423 -0.18483393\n",
      " -0.09190738 -0.12260228 -0.15924937  0.08313901  0.00074692 -0.2487543\n",
      " -0.13385147  0.3295998  -0.32526684 -0.09943545  0.05040883  0.18049532\n",
      " -0.15509656  0.23349725  0.20080915  0.24613112 -0.09123234  0.35446495\n",
      "  0.09990186 -0.10645569 -0.09633695 -0.08640758 -0.16494294  0.18908346\n",
      "  0.18071637 -0.41292387 -0.03789301 -0.25464463 -0.1628704   0.17540468\n",
      " -0.45907637  0.11983962  0.13486247 -0.10686272  0.06030718  0.02312667\n",
      " -0.00638636 -0.02114918  0.15383734 -0.04920458 -0.28926477  0.13213463\n",
      " -0.3417924  -0.09227797 -0.02028602  0.02151592  0.0834698   0.04886115\n",
      "  0.05910213 -0.02641293 -0.7335832   0.7133754   0.27944893 -0.0969215\n",
      "  0.0913984   0.02766157  0.12447934  0.10957491 -0.34806857  0.3443017\n",
      " -0.28334475  0.0986769  -0.04550147 -0.08196606 -0.1855494  -0.06459314\n",
      "  0.30913162 -0.08596937  0.11372417 -0.0417434  -0.08809278  0.03094434\n",
      "  0.16243097 -0.02438607  0.30031434  0.06014369 -0.2810168  -0.21098135\n",
      "  0.14185487  0.09978893 -0.36979276 -0.0162625   0.08685687 -0.0570396\n",
      "  0.2288086   0.11089525  0.07689284 -0.37244335  0.01165842  0.17491335\n",
      "  0.11063232 -0.04666843  0.01358897  0.15861721 -0.02591771  0.13880901\n",
      " -0.3967587  -0.03015018  0.02793001  0.0469018   0.18709296  0.02429699\n",
      " -0.01747754  0.014985    0.0350142   0.00676624 -0.01068071 -0.03805762\n",
      "  0.02136515  0.29864573 -0.09406842  0.32954678  0.05186444  0.01667948\n",
      "  0.13790412  0.12999699  0.11212411  0.04155378  0.08443367 -0.08708431\n",
      " -0.08804827  0.0759955  -0.18462485 -0.16778256  0.17351907 -0.15495747\n",
      " -0.09632454 -0.11902776 -0.05718345  0.26365963  0.12484125 -0.23434582\n",
      " -0.12586303 -0.15115134 -0.04173308  0.1530795  -0.0558544  -0.08927472\n",
      "  0.12196664 -0.07337655  0.6119474   0.04559515 -0.2640302  -0.17550896\n",
      " -0.06040684  0.2976638   0.51161903 -0.1901575  -0.3921099   0.22609435\n",
      " -0.12702027 -0.10944421  0.15230098 -0.07457758 -0.20596983 -0.23341364\n",
      "  0.18562412  0.2890682  -0.0136322   0.01150185 -0.03014047  0.10640663\n",
      " -0.13720837  0.19883756  0.05525867 -0.04194166 -0.06467069 -0.13877726\n",
      "  0.09876876  0.22320174 -0.04110195 -0.04610137  0.07090162  0.04980054]\n"
     ]
    }
   ],
   "source": [
    "get_bent('cnmlhk')\n"
   ]
  }
 ],
 "metadata": {
  "kernelspec": {
   "display_name": "Python 3",
   "language": "python",
   "name": "python3"
  },
  "language_info": {
   "codemirror_mode": {
    "name": "ipython",
    "version": 3
   },
   "file_extension": ".py",
   "mimetype": "text/x-python",
   "name": "python",
   "nbconvert_exporter": "python",
   "pygments_lexer": "ipython3",
   "version": "3.8.1"
  }
 },
 "nbformat": 4,
 "nbformat_minor": 4
}
