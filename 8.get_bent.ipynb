{
 "cells": [
  {
   "cell_type": "markdown",
   "metadata": {},
   "source": [
    "### Imports"
   ]
  },
  {
   "cell_type": "code",
   "execution_count": 1,
   "metadata": {},
   "outputs": [],
   "source": [
    "import snscrape.modules.twitter\n",
    "import pandas as pd\n",
    "from gensim.models import Doc2Vec\n",
    "from gensim.utils import simple_preprocess\n",
    "import pickle\n",
    "import csv"
   ]
  },
  {
   "cell_type": "markdown",
   "metadata": {},
   "source": [
    "### Create function that takes in a twitter handle as input and returns that user's probable political bent"
   ]
  },
  {
   "cell_type": "code",
   "execution_count": 2,
   "metadata": {},
   "outputs": [],
   "source": [
    "def get_bent(twitter_handle):\n",
    "    \n",
    "    # import Doc2Vec model\n",
    "    \n",
    "    doc_model = Doc2Vec.load('final_doc2vec')\n",
    "    \n",
    "    # import SVC model\n",
    "    \n",
    "    svc_filename = \"svc_final_model.pkl\"\n",
    "    with open(svc_filename, 'rb') as file:\n",
    "        svc = pickle.load(file)\n",
    "    \n",
    "    # scrape all tweets from user\n",
    "    \n",
    "    tweets = snscrape.modules.twitter.TwitterUserScraper(username=twitter_handle)\n",
    "    \n",
    "    # create temporary file to hold tweets\n",
    "    \n",
    "    with open('temp_file7.csv', 'w', encoding='utf-8') as f:\n",
    "        wr=csv.writer(f, lineterminator = '\\n')\n",
    "        for i in tweets.get_items():\n",
    "            wr.writerow([i.content])\n",
    "                    \n",
    "    # read temporary file in\n",
    "    \n",
    "    df = pd.read_csv('temp_file7.csv', header=None)\n",
    "    \n",
    "    # transform rows of tweets into single string \n",
    "    \n",
    "    tweets_list = df[0].tolist()\n",
    "    one_string = ''.join(tweets_list)\n",
    "    \n",
    "    # process tweets with gensim\n",
    "    \n",
    "    clean_doc = simple_preprocess(one_string)\n",
    "    \n",
    "    # infer document embeddings for entirety of user's tweets\n",
    "    \n",
    "    vectors = doc_model.infer_vector(clean_doc)\n",
    "    \n",
    "    # make prediction in svc model\n",
    "    \n",
    "    prediction = svc.predict([vectors])\n",
    "    proba = svc.predict_proba([vectors])\n",
    "    most_similar = doc_model.wv.most_similar([vectors])\n",
    "    # display political bent\n",
    "\n",
    "    if prediction == 1:\n",
    "        print(f'Well it seems to me that this twitter user, @{twitter_handle}, is most likely a Democrat.')\n",
    "    else:\n",
    "        print(f'Hey now, looks like Mr. or Ms. @{twitter_handle}, just may be a Republican.')\n",
    "    \n",
    "    print(prediction)\n",
    "    print(one_string[:200])\n",
    "    print(proba)\n",
    "    \n",
    "    "
   ]
  },
  {
   "cell_type": "code",
   "execution_count": 3,
   "metadata": {},
   "outputs": [
    {
     "name": "stdout",
     "output_type": "stream",
     "text": [
      "Well it seems to me that this twitter user, @CitizenCee, is most likely a Democrat.\n",
      "[1]\n",
      "@ZackBornstein Why is everything so duuuuuuuuumb@AshleyRoboto https://t.co/pfdhOALwP9@ledansemacabre @svdate Lost the primary and wasn't elected in the first place.@arstechnica @JenLucPiquant Nah. Hon\n",
      "[[0.0075528 0.9924472]]\n"
     ]
    }
   ],
   "source": [
    "get_bent('CitizenCee')\n"
   ]
  }
 ],
 "metadata": {
  "kernelspec": {
   "display_name": "Python 3",
   "language": "python",
   "name": "python3"
  },
  "language_info": {
   "codemirror_mode": {
    "name": "ipython",
    "version": 3
   },
   "file_extension": ".py",
   "mimetype": "text/x-python",
   "name": "python",
   "nbconvert_exporter": "python",
   "pygments_lexer": "ipython3",
   "version": "3.8.1"
  }
 },
 "nbformat": 4,
 "nbformat_minor": 4
}
