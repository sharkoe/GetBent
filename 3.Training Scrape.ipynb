{
 "cells": [
  {
   "cell_type": "markdown",
   "metadata": {},
   "source": [
    "### Imports"
   ]
  },
  {
   "cell_type": "code",
   "execution_count": 7,
   "metadata": {
    "jupyter": {
     "source_hidden": true
    }
   },
   "outputs": [],
   "source": [
    "import pandas as pd\n",
    "import snscrape.modules.twitter\n",
    "import csv\n",
    "import os"
   ]
  },
  {
   "cell_type": "markdown",
   "metadata": {},
   "source": [
    "### Function to scrape Training Users\n",
    "##### 1. Open new CSV file, name it after the User, place it in appropriate folder.\n",
    "##### 2. Scrape all tweets from User and write them to their own row."
   ]
  },
  {
   "cell_type": "code",
   "execution_count": 34,
   "metadata": {},
   "outputs": [],
   "source": [
    "def get_training_user(handle, color):\n",
    "    header = ['text', 'user', 'date']\n",
    "    tweets=snscrape.modules.twitter.TwitterUserScraper(username=handle)\n",
    "    filename = f'{color}/{handle}.csv'\n",
    "    with open(filename, 'a', encoding='utf-8') as f:\n",
    "            wr=csv.writer(f, lineterminator = '\\n')\n",
    "            wr.writerow(i for i in header)\n",
    "            for i in tweets.get_items():\n",
    "                wr.writerow([i.content, i.user, i.date])\n",
    "    print(f'Great, all the tweets from {handle}')"
   ]
  },
  {
   "cell_type": "code",
   "execution_count": 33,
   "metadata": {},
   "outputs": [],
   "source": [
    "def add_to_red_list(name):\n",
    "    if f'{name}.csv' in os.listdir('red2'):\n",
    "        print(\"already got it\")\n",
    "    elif f'red_{name}.csv' in os.listdir('red'):\n",
    "        print(\"we got it in the first batch of reds\")\n",
    "    else:\n",
    "        return get_training_user(name, 'red2')\n",
    "\n",
    "    \n",
    "def add_to_blue_list(name):\n",
    "    if f'{name}.csv' in os.listdir('blue2'):\n",
    "        print(\"already got it\")\n",
    "    elif f'blue_{name}.csv' in os.listdir('blue'):\n",
    "        print(\"we got it in the first batch of blues\")\n",
    "    else:\n",
    "        return get_training_user(name, 'blue2')"
   ]
  },
  {
   "cell_type": "code",
   "execution_count": 121,
   "metadata": {},
   "outputs": [
    {
     "name": "stdout",
     "output_type": "stream",
     "text": [
      "already got it\n"
     ]
    }
   ],
   "source": [
    "add_to_red_list('huckabeeontbn')"
   ]
  },
  {
   "cell_type": "code",
   "execution_count": 120,
   "metadata": {},
   "outputs": [
    {
     "name": "stdout",
     "output_type": "stream",
     "text": [
      "already got it\n"
     ]
    }
   ],
   "source": [
    "add_to_blue_list('aoc')"
   ]
  }
 ],
 "metadata": {
  "kernelspec": {
   "display_name": "Python 3",
   "language": "python",
   "name": "python3"
  },
  "language_info": {
   "codemirror_mode": {
    "name": "ipython",
    "version": 3
   },
   "file_extension": ".py",
   "mimetype": "text/x-python",
   "name": "python",
   "nbconvert_exporter": "python",
   "pygments_lexer": "ipython3",
   "version": "3.8.1"
  }
 },
 "nbformat": 4,
 "nbformat_minor": 4
}
